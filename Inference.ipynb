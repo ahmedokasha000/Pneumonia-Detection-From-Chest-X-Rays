{
 "cells": [
  {
   "cell_type": "code",
   "execution_count": 1,
   "metadata": {},
   "outputs": [
    {
     "name": "stderr",
     "output_type": "stream",
     "text": [
      "Using TensorFlow backend.\n"
     ]
    }
   ],
   "source": [
    "import numpy as np\n",
    "import pandas as pd\n",
    "import pydicom\n",
    "%matplotlib inline\n",
    "import matplotlib.pyplot as plt\n",
    "import keras \n",
    "from keras.optimizers import Adam\n",
    "import tensorflow as tf"
   ]
  },
  {
   "cell_type": "code",
   "execution_count": 2,
   "metadata": {},
   "outputs": [],
   "source": [
    "# This function reads in a .dcm file, checks the important fields for our device, and returns a numpy array\n",
    "# of just the imaging data\n",
    "def check_dicom(filename): \n",
    "    # todo\n",
    "    print('Load file {} ...'.format(filename))\n",
    "    ds = pydicom.dcmread(filename)\n",
    "    age=int(ds.PatientAge)\n",
    "    position=ds.PatientPosition\n",
    "    body_part=ds.BodyPartExamined\n",
    "    modality=ds.Modality\n",
    "    if (age>20) and (age<70) :\n",
    "        print(\"age meets specifications\")\n",
    "    else:\n",
    "        print(\"age doesn't meet specifications\")\n",
    "        #assert False\n",
    "        \n",
    "    if (body_part=='CHEST'):\n",
    "        print(\"body part meets specification\")\n",
    "    else:\n",
    "        print(\"body part doesn't meet specification\")\n",
    "        assert False\n",
    "    if (position in ['AP','PA']) :\n",
    "        print(\"patient position meets specifications\")\n",
    "    else:\n",
    "        print(\"patient position doesn't meet specifications\")\n",
    "        #assert False\n",
    "    if (modality ==\"DX\") :\n",
    "        print(\"modality meets specifications\")\n",
    "    else:\n",
    "        print(\"modality doesn't meet specifications\")\n",
    "        assert False\n",
    "    print(\"some assertion errors are commented for simplicity of test\")\n",
    "    return ds.pixel_array\n",
    "    \n",
    "# This function takes the numpy array output by check_dicom and \n",
    "# runs the appropriate pre-processing needed for our model input\n",
    "def preprocess_image(img,img_mean,img_std,img_size):\n",
    "    img=img.reshape([img.shape[0],img.shape[1],1])/255.\n",
    "    img_tensor=tf.convert_to_tensor(img)\n",
    "    rgb_im=tf.image.grayscale_to_rgb(img_tensor).numpy()\n",
    "    im2=tf.image.resize(rgb_im, [img_size[1],img_size[2]]).numpy()\n",
    "    proc_img= im2.reshape(img_size)\n",
    "    #print(im2.shape)\n",
    "    \n",
    "    return proc_img\n",
    "\n",
    "# This function loads in our trained model w/ weights and compiles it \n",
    "def load_model(model_path, weight_path):\n",
    "    json_file = open(model_path, 'r')\n",
    "    loaded_model_json = json_file.read()\n",
    "    json_file.close()\n",
    "    loaded_model  = keras.models.model_from_json(loaded_model_json)\n",
    "    loaded_model.load_weights(weight_path)\n",
    "    return loaded_model\n",
    "\n",
    "# This function uses our device's threshold parameters to predict whether or not\n",
    "# the image shows the presence of pneumonia using our trained model\n",
    "def predict_image(model, img, thresh): \n",
    "    prob_Y = my_model.predict(img, verbose = True)   \n",
    "    prediction=int(prob_Y.flatten()>thresh)\n",
    "    return prediction "
   ]
  },
  {
   "cell_type": "code",
   "execution_count": 3,
   "metadata": {
    "scrolled": true
   },
   "outputs": [],
   "source": [
    "#im = check_dicom('test1.dcm') \n",
    "#plt.imshow(im)\n",
    "model_path =\"my_model_517.json\" #path to saved model\n",
    "weight_path ='delivery_weights0517.h5' #path to saved best weights\n",
    "my_model = load_model(model_path, weight_path)#loads model\n"
   ]
  },
  {
   "cell_type": "code",
   "execution_count": 47,
   "metadata": {
    "scrolled": true
   },
   "outputs": [],
   "source": [
    "# d=pydicom.dcmread('test6.dcm')\n",
    "# d"
   ]
  },
  {
   "cell_type": "code",
   "execution_count": 4,
   "metadata": {},
   "outputs": [],
   "source": [
    "#IMG_SIZE=[1,224,224,3]\n",
    "#img = check_dicom(\"test3.dcm\")\n",
    "#print(img.shape[0])\n",
    "# img=img.reshape((img.shape[0],img.shape[1],1))\n",
    "# print(img.shape)\n",
    "# ten_im=tf.convert_to_tensor(img)\n",
    "# rgb_im=tf.image.grayscale_to_rgb(ten_im)\n",
    "# img_proc = preprocess_image(img,img_mean,img_std,IMG_SIZE)\n",
    "# img_proc.shape"
   ]
  },
  {
   "cell_type": "code",
   "execution_count": 6,
   "metadata": {},
   "outputs": [
    {
     "name": "stdout",
     "output_type": "stream",
     "text": [
      "Load file test1.dcm ...\n",
      "age doesn't meet specifications\n",
      "body part meets specification\n",
      "patient position meets specifications\n",
      "modality meets specifications\n",
      "some assertion errors are commented for simplicity of test\n",
      "1/1 [==============================] - 1s 611ms/step\n",
      "0\n",
      "Load file test2.dcm ...\n",
      "age meets specifications\n",
      "body part meets specification\n",
      "patient position meets specifications\n",
      "modality meets specifications\n",
      "some assertion errors are commented for simplicity of test\n",
      "1/1 [==============================] - 1s 541ms/step\n",
      "0\n",
      "Load file test3.dcm ...\n",
      "age doesn't meet specifications\n",
      "body part meets specification\n",
      "patient position meets specifications\n",
      "modality meets specifications\n",
      "some assertion errors are commented for simplicity of test\n",
      "1/1 [==============================] - 1s 520ms/step\n",
      "1\n",
      "Load file test4.dcm ...\n",
      "age doesn't meet specifications\n",
      "body part doesn't meet specification\n"
     ]
    },
    {
     "ename": "AssertionError",
     "evalue": "",
     "output_type": "error",
     "traceback": [
      "\u001b[0;31m---------------------------------------------------------------------------\u001b[0m",
      "\u001b[0;31mAssertionError\u001b[0m                            Traceback (most recent call last)",
      "\u001b[0;32m<ipython-input-6-d075164afbf0>\u001b[0m in \u001b[0;36m<module>\u001b[0;34m\u001b[0m\n\u001b[1;32m     12\u001b[0m \u001b[0;34m\u001b[0m\u001b[0m\n\u001b[1;32m     13\u001b[0m     \u001b[0mimg\u001b[0m \u001b[0;34m=\u001b[0m \u001b[0mnp\u001b[0m\u001b[0;34m.\u001b[0m\u001b[0marray\u001b[0m\u001b[0;34m(\u001b[0m\u001b[0;34m[\u001b[0m\u001b[0;34m]\u001b[0m\u001b[0;34m)\u001b[0m\u001b[0;34m\u001b[0m\u001b[0;34m\u001b[0m\u001b[0m\n\u001b[0;32m---> 14\u001b[0;31m     \u001b[0mimg\u001b[0m \u001b[0;34m=\u001b[0m \u001b[0mcheck_dicom\u001b[0m\u001b[0;34m(\u001b[0m\u001b[0mi\u001b[0m\u001b[0;34m)\u001b[0m\u001b[0;34m\u001b[0m\u001b[0;34m\u001b[0m\u001b[0m\n\u001b[0m\u001b[1;32m     15\u001b[0m     \u001b[0;32mif\u001b[0m \u001b[0mimg\u001b[0m \u001b[0;32mis\u001b[0m \u001b[0;32mNone\u001b[0m\u001b[0;34m:\u001b[0m\u001b[0;34m\u001b[0m\u001b[0;34m\u001b[0m\u001b[0m\n\u001b[1;32m     16\u001b[0m         \u001b[0;32mcontinue\u001b[0m\u001b[0;34m\u001b[0m\u001b[0;34m\u001b[0m\u001b[0m\n",
      "\u001b[0;32m<ipython-input-2-07ef9bb1543f>\u001b[0m in \u001b[0;36mcheck_dicom\u001b[0;34m(filename)\u001b[0m\n\u001b[1;32m     19\u001b[0m     \u001b[0;32melse\u001b[0m\u001b[0;34m:\u001b[0m\u001b[0;34m\u001b[0m\u001b[0;34m\u001b[0m\u001b[0m\n\u001b[1;32m     20\u001b[0m         \u001b[0mprint\u001b[0m\u001b[0;34m(\u001b[0m\u001b[0;34m\"body part doesn't meet specification\"\u001b[0m\u001b[0;34m)\u001b[0m\u001b[0;34m\u001b[0m\u001b[0;34m\u001b[0m\u001b[0m\n\u001b[0;32m---> 21\u001b[0;31m         \u001b[0;32massert\u001b[0m \u001b[0;32mFalse\u001b[0m\u001b[0;34m\u001b[0m\u001b[0;34m\u001b[0m\u001b[0m\n\u001b[0m\u001b[1;32m     22\u001b[0m     \u001b[0;32mif\u001b[0m \u001b[0;34m(\u001b[0m\u001b[0mposition\u001b[0m \u001b[0;32min\u001b[0m \u001b[0;34m[\u001b[0m\u001b[0;34m'AP'\u001b[0m\u001b[0;34m,\u001b[0m\u001b[0;34m'PA'\u001b[0m\u001b[0;34m]\u001b[0m\u001b[0;34m)\u001b[0m \u001b[0;34m:\u001b[0m\u001b[0;34m\u001b[0m\u001b[0;34m\u001b[0m\u001b[0m\n\u001b[1;32m     23\u001b[0m         \u001b[0mprint\u001b[0m\u001b[0;34m(\u001b[0m\u001b[0;34m\"patient position meets specifications\"\u001b[0m\u001b[0;34m)\u001b[0m\u001b[0;34m\u001b[0m\u001b[0;34m\u001b[0m\u001b[0m\n",
      "\u001b[0;31mAssertionError\u001b[0m: "
     ]
    }
   ],
   "source": [
    "test_dicoms = ['test1.dcm','test2.dcm','test3.dcm','test4.dcm','test5.dcm','test6.dcm']\n",
    "\n",
    "IMG_SIZE=[1,224,224,3] # This might be different if you did not use vgg16\n",
    "img_mean = 0.5# loads the mean image value they used during training preprocessing\n",
    "img_std = 0.5# loads the std dev image value they used during training preprocessing\n",
    "\n",
    "my_model = load_model(model_path, weight_path)#loads model\n",
    "thresh =0.935 #loads the threshold they chose for model classification \n",
    "\n",
    "#use the .dcm files to test your prediction\n",
    "for i in test_dicoms:\n",
    "    \n",
    "    img = np.array([])\n",
    "    img = check_dicom(i)\n",
    "    if img is None:\n",
    "        continue\n",
    "    img_proc = preprocess_image(img,img_mean,img_std,IMG_SIZE)\n",
    "    pred = predict_image(my_model,img_proc,thresh)\n",
    "    print(pred)"
   ]
  },
  {
   "cell_type": "code",
   "execution_count": null,
   "metadata": {},
   "outputs": [],
   "source": []
  }
 ],
 "metadata": {
  "kernelspec": {
   "display_name": "Python 3",
   "language": "python",
   "name": "python3"
  },
  "language_info": {
   "codemirror_mode": {
    "name": "ipython",
    "version": 3
   },
   "file_extension": ".py",
   "mimetype": "text/x-python",
   "name": "python",
   "nbconvert_exporter": "python",
   "pygments_lexer": "ipython3",
   "version": "3.7.6"
  }
 },
 "nbformat": 4,
 "nbformat_minor": 2
}
